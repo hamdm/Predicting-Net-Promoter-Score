{
 "cells": [
  {
   "cell_type": "code",
   "execution_count": 114,
   "metadata": {
    "collapsed": true
   },
   "outputs": [],
   "source": [
    "import pandas as pd\n",
    "import numpy as np\n",
    "\n",
    "\n",
    "def uniquevalues(df):\n",
    "    \n",
    "    \n",
    "    cat_columns = ['MaritalStatus','Sex','BedCategory','Department','InsPayorcategory']\n",
    "    for col in cat_columns:\n",
    "        print('The unique values in {} are: {} and includes {}'.format(col,df[col].nunique(),\n",
    "              np.unique(df[col].values,return_counts=True)),'\\n')\n",
    "        \n",
    "def read_into_df(filename,sheetname,droplabels):\n",
    "    data = pd.read_excel(filename,sheetname,index_col=0)\n",
    "    data.drop(labels=droplabels,axis=1,inplace=True)\n",
    "    return data\n",
    "    \n",
    "        \n",
    "def missing_categories(df1,df2):\n",
    "    cat_columns = ['MaritalStatus','Sex','BedCategory','Department','InsPayorcategory']\n",
    "    for col in cat_columns:\n",
    "        if df1[col].nunique != df2[col].nunique():\n",
    "            missing_values=set(np.unique(df1[col].values))-set(np.unique(df2[col].values))\n",
    "            mydict = {}\n",
    "            for value in missing_values:\n",
    "                count = df1[col].value_counts()[value]\n",
    "                mydict[value] = count\n",
    "        print(\"The categories not present in test data column {} are: {}, and their count in train data is {}\".\n",
    "              format(col,missing_values,mydict),'\\n')\n",
    "        \n",
    "def extractFeatureTarget(df):\n",
    "    features = df.iloc[:,:-1]\n",
    "    target = df.iloc[:, df.columns.get_loc('NPS_Status')]\n",
    "    return features,target\n",
    "\n",
    "def concatenate_get_dummies(trainData,testData,axis):\n",
    "    cat_columns = ['MaritalStatus','Sex','BedCategory','Department','InsPayorcategory']\n",
    "    training_length = len(trainData)\n",
    "    dataset = pd.concat(objs=[trainData,testData],axis=axis)\n",
    "    dataset = pd.get_dummies(dataset,columns=cat_columns,prefix=cat_columns,drop_first=True)\n",
    "    train_preprocessed = dataset[:training_length]\n",
    "    test_preprocessed = dataset[training_length:]\n",
    "    return train_preprocessed,test_preprocessed\n",
    "\n",
    "def convToArray(df_X,df_y):\n",
    "    features = df_X.columns\n",
    "    X = df_X.values\n",
    "    y = df_y.values\n",
    "    return X,y,features\n",
    "    #return X,labelEncoding(y)\n",
    "\n",
    "def labelEncoding(le):\n",
    "        labelencoder = LabelEncoder()\n",
    "        le = labelencoder.fit_transform(le)\n",
    "        return le"
   ]
  },
  {
   "cell_type": "code",
   "execution_count": 2,
   "metadata": {
    "collapsed": true
   },
   "outputs": [],
   "source": [
    "import matplotlib.pyplot as plt\n",
    "from sklearn.preprocessing import LabelEncoder,OneHotEncoder\n",
    "from sklearn.neighbors import KNeighborsClassifier\n",
    "from sklearn.linear_model import LogisticRegression\n",
    "from sklearn.svm import LinearSVC,SVC\n",
    "from sklearn.tree import DecisionTreeClassifier\n",
    "from sklearn.ensemble import RandomForestClassifier\n",
    "from sklearn.ensemble import GradientBoostingClassifier\n",
    "from sklearn.tree import export_graphviz\n",
    "import graphviz\n",
    "\n",
    "classifiers = ['KNeighbors','LogisticRegression','LogisticRegression_l1','LinearSVC',\n",
    "               'DecisionTree','RandomForest','GradientBoosting','SVC']\n",
    "\n",
    "\n",
    "def classifier(X_train,X_test,y_train,y_test):\n",
    "    \n",
    "    training_accuracy = []\n",
    "    testing_accuracy = []\n",
    "    \n",
    "    for classifier in classifiers:\n",
    "    \n",
    "        if classifier=='KNeighbors':\n",
    "        #neighborsToTry = range(1,11)\n",
    "        #training_accuracy = []\n",
    "        #test_accuracy = []\n",
    "        #for neighbors in neighborsToTry:\n",
    "            #kneighborsclassifier = KNeighborsClassifier(n_neighbors=neighbors)\n",
    "            #kneighborsclassifier.fit(X,y)\n",
    "            #trainScore = kneighborsclassifier.score(X,y)\n",
    "            #training_accuracy.append(trainScore)\n",
    "            #testScore = kneighborsclassifier.score(X_test,y_test)\n",
    "            #test_accuracy.append(testScore)\n",
    "        \n",
    "            kneighborsclassifier = KNeighborsClassifier()\n",
    "            score_train=kneighborsclassifier.fit(X_train,y_train).score(X_train,y_train)\n",
    "            score_test = kneighborsclassifier.score(X_test,y_test)        \n",
    "            \n",
    "            training_accuracy.append(score_train)\n",
    "            testing_accuracy.append(score_test)\n",
    "        \n",
    "        \n",
    "        #plt.plot(neighborsToTry,training_accuracy,label='training_accuracy')\n",
    "        #plt.plot(neighborsToTry,test_accuracy,label='test_accuracy')\n",
    "        #plt.legend()\n",
    "        #plt.show()\n",
    "        \n",
    "        elif classifier=='LogisticRegression':\n",
    "            logisticregression = LogisticRegression()\n",
    "            logisticregression.fit(X_train,y_train)\n",
    "            #logisticregression.predict(X_test)\n",
    "            score_train=logisticregression.score(X_train,y_train)\n",
    "            score_test = logisticregression.score(X_test,y_test)\n",
    "            #print('The accuracy of Logistic Regression Model is: {}'.format(score))\n",
    "            \n",
    "            training_accuracy.append(score_train)\n",
    "            testing_accuracy.append(score_test)\n",
    "            \n",
    "        #plt.plot(logisticregression.coef_.T,'o',label=\"C=Default\")\n",
    "        #plt.xticks(range(X_train.shape[1]),features,rotation=90)\n",
    "        #plt.ylimit(-7,7)\n",
    "        #plt.legend() \n",
    "        \n",
    "        elif classifier==\"LogisticRegression_l1\":\n",
    "            logisticregression_l1 = LogisticRegression(penalty='l1')\n",
    "            logisticregression_l1.fit(X_train,y_train)\n",
    "            #logisticregression_l1.predict(X_test)\n",
    "            \n",
    "            score_train=logisticregression_l1.score(X_train,y_train)\n",
    "            score_test=logisticregression_l1.score(X_test,y_test)\n",
    "            \n",
    "            training_accuracy.append(score_train)\n",
    "            testing_accuracy.append(score_test)\n",
    "        \n",
    "        #plt.plot(logisticregression.coef_.T,'o',label=\"C=Default\")\n",
    "        #plt.xticks(range(X_train.shape[1]),features,rotation=90)\n",
    "        #plt.ylimit(-7,7)\n",
    "        #plt.legend()\n",
    "        \n",
    "        elif classifier=='LinearSVC':\n",
    "            linearsvc=LinearSVC()\n",
    "            score_train = linearsvc.fit(X_train,y_train).score(X_train,y_train)\n",
    "            score_test=linearsvc.score(X_test,y_test)\n",
    "            \n",
    "            training_accuracy.append(score_train)\n",
    "            testing_accuracy.append(score_test)\n",
    "            \n",
    "        elif classifier=='DecisionTree':\n",
    "        \n",
    "            tree = DecisionTreeClassifier(random_state=0)\n",
    "            score_train = tree.fit(X_train,y_train).score(X_train,y_train)\n",
    "            score_test = tree.score(X_test,y_test)\n",
    "    \n",
    "    \n",
    "            training_accuracy.append(score_train)\n",
    "            testing_accuracy.append(score_test)\n",
    "            \n",
    "        #tree.feature_importances_\n",
    "        \n",
    "        #plt.plot(tree.feature_importances_)\n",
    "        #plt.xticks(range(X_train.shape[1]),features,rotation=90)\n",
    "        #plt.ylimit(0,1)\n",
    "        \n",
    "        elif classifier=='RandomForest':\n",
    "            forest = RandomForestClassifier(random_state=0)\n",
    "            score_train = forest.fit(X_train,y_train).score(X_train,y_train)\n",
    "            score_test = forest.score(X_test,y_test)\n",
    "            \n",
    "            training_accuracy.append(score_train)\n",
    "            testing_accuracy.append(score_test)\n",
    "            \n",
    "        #plt.plot(forest.feature_importances_,'o')\n",
    "        #plt.xticks(range(X_train.shape[1]),features,rotation=90)\n",
    "        \n",
    "        elif classifier=='GradientBoosting':\n",
    "            gbc = GradientBoostingClassifier(random_state=0)\n",
    "            score_train=gbc.fit(X_train,y_train).score(X_train,y_train)\n",
    "            score_test = gbc.score(X_test,y_test)\n",
    "            \n",
    "            training_accuracy.append(score_train)\n",
    "            testing_accuracy.append(score_test)\n",
    "            \n",
    "        #plt.plot(gbc.feature_importances_,'o')\n",
    "        #plt.xticks(range(X_train.shape[1]),features,rotation=90)\n",
    "        \n",
    "        elif classifier=='SVC':\n",
    "            svm = SVC()\n",
    "            score_train = svm.fit(X_train,y_train).score(X_train,y_train)\n",
    "            score_test = svm.score(X_test,y_test)\n",
    "            \n",
    "            training_accuracy.append(score_train)\n",
    "            testing_accuracy.append(score_test)\n",
    "            \n",
    "        \n",
    "    return training_accuracy,testing_accuracy,classifiers  "
   ]
  },
  {
   "cell_type": "code",
   "execution_count": 3,
   "metadata": {},
   "outputs": [
    {
     "data": {
      "text/plain": [
       "'\\ndef apply_lda(X_train,X_test):\\n    \\n    LDA - Linear Discriminant Analysis, separates the most the classes\\n    of the dependent variable\\n    \\n    scaler = StandardScaler()\\n    scaler.fit(X_train)\\n    X_train_scaled = scaler.transform(X_train)\\n    X_test_scaled = scaler.transform(X_test)\\n    \\n    lda = LDA()\\n    X_train_lda = lda.fit_transform(X_train_scaled,y_train)\\n    X_test_lda = lda.transform(X_test_scaled)\\n    \\n    return X_train_da,X_test_lda\\n'"
      ]
     },
     "execution_count": 3,
     "metadata": {},
     "output_type": "execute_result"
    }
   ],
   "source": [
    "from sklearn.preprocessing import MinMaxScaler, StandardScaler\n",
    "from sklearn.decomposition import PCA\n",
    "from sklearn.discriminant_analysis import LinearDiscriminantAnalysis as LDA\n",
    "\n",
    "def apply_MinMax(X_train,X_test):\n",
    "    scaler = MinMaxScaler()\n",
    "    scaler.fit(X_train)\n",
    "    X_train_scaled = scaler.transform(X_train)\n",
    "    X_test_scaled = scaler.transform(X_test)\n",
    "\n",
    "    return X_train_scaled,X_test_scaled\n",
    "\n",
    "\n",
    "def explained_variance(X_train,X_test):\n",
    "    scaler = StandardScaler()\n",
    "    scaler.fit(X_train)\n",
    "    X_train_ss = scaler.transform(X_train)\n",
    "    X_test_ss = scaler.transform(X_test)\n",
    "    \n",
    "    pca = PCA(n_components=None)\n",
    "    pca.fit(X_train_ss)\n",
    "    X_train_pca = pca.transform(X_train_ss)\n",
    "    X_test_pca = pca.transform(X_test_ss)\n",
    "    explained = pca.explained_variance_ratio_ \n",
    "    \n",
    "    return X_train_pca,X_test_pca,explained\n",
    "\n",
    "\n",
    "def components_to_PCA(explained_var,required_variance):\n",
    "    variance = 0\n",
    "    for i in range(0,63):\n",
    "        if variance <= required_variance:\n",
    "            variance = variance + explained_var[i]\n",
    "            print(variance)\n",
    "        else:\n",
    "            print('You need first {} principal components to achieve {} variance'.format(i,required_variance))\n",
    "            break\n",
    "\n",
    "def apply_PCA(X_train,X_test,n_components):\n",
    "\n",
    "    '''\n",
    "    First applying StandardScaler to bring features to unit variance, and then\n",
    "    doing the Principal Component Analysis\n",
    "    '''\n",
    "    scaler = StandardScaler()\n",
    "    scaler.fit(X_train)\n",
    "    X_train_scaled = scaler.transform(X_train)\n",
    "    X_test_scaled = scaler.transform(X_test)\n",
    "\n",
    "\n",
    "\n",
    "    pca = PCA(n_components=n_components)\n",
    "    pca.fit(X_train_scaled)\n",
    "    X_train_pca = pca.transform(X_train_scaled)\n",
    "    X_test_pca = pca.transform(X_test_scaled)\n",
    "    \n",
    "    return X_train_pca,X_test_pca\n",
    "\n",
    "'''\n",
    "def apply_lda(X_train,X_test):\n",
    "    \n",
    "    LDA - Linear Discriminant Analysis, separates the most the classes\n",
    "    of the dependent variable\n",
    "    \n",
    "    scaler = StandardScaler()\n",
    "    scaler.fit(X_train)\n",
    "    X_train_scaled = scaler.transform(X_train)\n",
    "    X_test_scaled = scaler.transform(X_test)\n",
    "    \n",
    "    lda = LDA()\n",
    "    X_train_lda = lda.fit_transform(X_train_scaled,y_train)\n",
    "    X_test_lda = lda.transform(X_test_scaled)\n",
    "    \n",
    "    return X_train_da,X_test_lda\n",
    "'''"
   ]
  },
  {
   "cell_type": "code",
   "execution_count": 115,
   "metadata": {},
   "outputs": [
    {
     "name": "stdout",
     "output_type": "stream",
     "text": [
      "The categories not present in test data column MaritalStatus are: {'Widowed', 'Divorced'}, and their count in train data is {'Widowed': 4, 'Divorced': 1} \n",
      "\n",
      "The categories not present in test data column Sex are: set(), and their count in train data is {} \n",
      "\n",
      "The categories not present in test data column BedCategory are: {'ITU', 'CCU', 'Renal ICU'}, and their count in train data is {'ITU': 1, 'CCU': 1, 'Renal ICU': 2} \n",
      "\n",
      "The categories not present in test data column Department are: set(), and their count in train data is {} \n",
      "\n",
      "The categories not present in test data column InsPayorcategory are: {'INTERNATIONAL'}, and their count in train data is {'INTERNATIONAL': 80} \n",
      "\n"
     ]
    }
   ],
   "source": [
    "import pandas as pd\n",
    "import numpy as np\n",
    "from sklearn.preprocessing import LabelEncoder,OneHotEncoder\n",
    "from sklearn.neighbors import KNeighborsClassifier\n",
    "from sklearn.linear_model import LogisticRegression\n",
    "from sklearn.svm import LinearSVC,SVC\n",
    "\n",
    "'''\n",
    "Categorical Columns not being used inside paranthesis:\n",
    "(HospitalNo2),(STATEZONE),MaritalStatus, Sex, BedCategory, Department, \n",
    "InsPayorCategory, (State), (Country),(AdmissionDate),(DischargeDate), \n",
    "NPS_Status, (Drop Serial Number)\n",
    "'''    \n",
    "\n",
    "\n",
    "'''\n",
    "Reading Excel, dropping columns, and checking unique values in categorical \n",
    "columns of interest\n",
    "'''\n",
    "cat_columns = ['MaritalStatus','Sex','BedCategory','Department','InsPayorcategory']\n",
    "labels_drop=['HospitalNo2','State','STATEZONE','Country','AdmissionDate','DischargeDate','CE_NPS']\n",
    "filename = 'ManipalHospitalExcel.xlsx'\n",
    "training_sheet = 'Training Data or Binary Class'\n",
    "test_sheet = 'Test Data for Binary Class'\n",
    "\n",
    "#df = pd.read_excel('ManipalHospitalExcel.xlsx','Training Data or Binary Class',index_col=0)\n",
    "#df_test = pd.read_excel('ManipalHospitalExcel.xlsx','Test Data for Binary Class',index_col=0)\n",
    "#df.drop(labels=['HospitalNo2','State','STATEZONE','Country','AdmissionDate','DischargeDate'],axis=1,inplace=True)\n",
    "#df_test.drop(labels=['HospitalNo2','State','STATEZONE','Country','AdmissionDate','DischargeDate'],axis=1,inplace=True)\n",
    "\n",
    "df = read_into_df(filename,training_sheet,labels_drop)\n",
    "df_test = read_into_df(filename,test_sheet,labels_drop)\n",
    "\n",
    "missing_categories(df,df_test)\n",
    "\n",
    "'''\n",
    "The analysis above reveals that there are several categorical columns in the\n",
    "test data that are missing values, hence I will concatenate the training data \n",
    "and the test data file against axis=0, use get_dummies, and then separate the \n",
    "two\n",
    "\n",
    "'''\n",
    "\n",
    "#Extracting Features,Target from both Train & Test Data\n",
    "df_X,df_y = extractFeatureTarget(df)\n",
    "df_X_test,df_y_test = extractFeatureTarget(df_test)\n",
    "\n",
    "\n",
    "#Dummy Conversion\n",
    "train_preprocessed,test_preprocessed = concatenate_get_dummies(df_X,df_X_test,axis=0)\n",
    "\n",
    "\n",
    "#Converting to Array\n",
    "X_train,y_train,features = convToArray(train_preprocessed,df_y)\n",
    "X_test,y_test,features = convToArray(test_preprocessed,df_y_test)\n",
    "#X_train = np.delete(X_train,train_preprocessed.columns.get_loc('CE_NPS'),axis=1)\n",
    "#X_test = np.delete(X_test,train_preprocessed.columns.get_loc('CE_NPS'),axis=1)"
   ]
  },
  {
   "cell_type": "code",
   "execution_count": 117,
   "metadata": {},
   "outputs": [
    {
     "data": {
      "text/plain": [
       "63"
      ]
     },
     "execution_count": 117,
     "metadata": {},
     "output_type": "execute_result"
    }
   ],
   "source": [
    "len(features)"
   ]
  },
  {
   "cell_type": "code",
   "execution_count": null,
   "metadata": {
    "collapsed": true
   },
   "outputs": [],
   "source": [
    "training_accuracy,testing_accuracy,classifiers = classifier(X_train,X_test,y_train,y_test)\n",
    "\n",
    "'''\n",
    "plt.plot(training_accuracy,label=\"training_accuracy\")\n",
    "plt.plot(testing_accuracy,label='test_accuracy')\n",
    "plt.xticks(range(len(classifiers)),classifiers,rotation=90)\n",
    "'''\n",
    "\n",
    "#Here we apply MinMaxScaler\n",
    "X_train_scaled, X_test_scaled = apply_MinMax(X_train,X_test)\n",
    "training_accuracy_MinMax,testing_accuracy_MinMax,classifiers = classifier(X_train_scaled,X_test_scaled,y_train,y_test)\n",
    "\n",
    "'''\n",
    "plt.plot(training_accuracy_MinMax,label=\"training_accuracy_scaled\")\n",
    "plt.plot(testing_accuracy_MinMax,label='test_accuracy_scaled')\n",
    "plt.xticks(range(len(classifiers)),classifiers,rotation=90)\n",
    "'''\n",
    "\n",
    "#Checking Explained Variance with PCA\n",
    "\n",
    "X_train_pca,X_test_pca,explained = explained_variance(X_train,X_test)\n",
    "\n",
    "'''\n",
    "plt.plot(explained[:10],label=\"Variance Explained\")\n",
    "plt.xticks(range(10),range(1,11),rotation=90)\n",
    "'''\n",
    "\n",
    "components_to_PCA(explained,0.60)\n",
    "\n",
    "\n",
    "#Running classifiers with Principal Components\n",
    "X_train_pca,X_test_pca = apply_PCA(X_train,X_test,13)\n",
    "training_accuracy_pca,testing_accuracy_pca,classifiers = classifier(X_train_pca,X_test_pca,y_train,y_test)\n",
    "\n",
    "'''\n",
    "plt.plot(training_accuracy_pca,label=\"training_accuracy_pca\")\n",
    "plt.plot(testing_accuracy_pca,label='test_accuracy_pca')\n",
    "plt.xticks(range(len(classifiers)),classifiers,rotation=90)\n",
    "'''"
   ]
  },
  {
   "cell_type": "code",
   "execution_count": 41,
   "metadata": {},
   "outputs": [
    {
     "data": {
      "text/plain": [
       "<matplotlib.legend.Legend at 0xc4e6be0>"
      ]
     },
     "execution_count": 41,
     "metadata": {},
     "output_type": "execute_result"
    },
    {
     "data": {
      "image/png": "[encoded data removed]",
      "text/plain": [
       "<matplotlib.figure.Figure at 0x9b92780>"
      ]
     },
     "metadata": {},
     "output_type": "display_data"
    }
   ],
   "source": [
    "%matplotlib inline \n",
    "plt.plot(training_accuracy,label=\"training_accuracy_raw\")\n",
    "plt.plot(testing_accuracy,label='test_accuracy_raw')\n",
    "plt.xticks(range(len(classifiers)),classifiers,rotation=90)\n",
    "plt.legend()"
   ]
  },
  {
   "cell_type": "code",
   "execution_count": 42,
   "metadata": {},
   "outputs": [
    {
     "data": {
      "text/plain": [
       "<matplotlib.legend.Legend at 0xbf77550>"
      ]
     },
     "execution_count": 42,
     "metadata": {},
     "output_type": "execute_result"
    },
    {
     "data": {
      "image/png": "[encoded data removed]",
      "text/plain": [
       "<matplotlib.figure.Figure at 0xd0ba518>"
      ]
     },
     "metadata": {},
     "output_type": "display_data"
    }
   ],
   "source": [
    "plt.plot(training_accuracy_MinMax,label=\"training_accuracy_scaled\")\n",
    "plt.plot(testing_accuracy_MinMax,label='test_accuracy_scaled')\n",
    "plt.xticks(range(len(classifiers)),classifiers,rotation=90)\n",
    "plt.legend()"
   ]
  },
  {
   "cell_type": "code",
   "execution_count": 45,
   "metadata": {},
   "outputs": [
    {
     "data": {
      "text/plain": [
       "<matplotlib.legend.Legend at 0xc8fa748>"
      ]
     },
     "execution_count": 45,
     "metadata": {},
     "output_type": "execute_result"
    },
    {
     "data": {
      "image/png": "[encoded data removed]",
      "text/plain": [
       "<matplotlib.figure.Figure at 0xc77e828>"
      ]
     },
     "metadata": {},
     "output_type": "display_data"
    }
   ],
   "source": [
    "plt.plot(explained[:35],label=\"Variance Explained\")\n",
    "plt.xticks(range(35),range(1,36),rotation=90)\n",
    "plt.legend()"
   ]
  },
  {
   "cell_type": "code",
   "execution_count": 50,
   "metadata": {},
   "outputs": [
    {
     "data": {
      "text/plain": [
       "0.90289719876019481"
      ]
     },
     "execution_count": 50,
     "metadata": {},
     "output_type": "execute_result"
    }
   ],
   "source": [
    "np.sum(explained[:35])"
   ]
  },
  {
   "cell_type": "code",
   "execution_count": 8,
   "metadata": {},
   "outputs": [
    {
     "data": {
      "text/plain": [
       "<matplotlib.legend.Legend at 0xc2aeac8>"
      ]
     },
     "execution_count": 8,
     "metadata": {},
     "output_type": "execute_result"
    },
    {
     "data": {
      "image/png": "[encoded data removed]",
      "text/plain": [
       "<matplotlib.figure.Figure at 0xd5ad438>"
      ]
     },
     "metadata": {},
     "output_type": "display_data"
    }
   ],
   "source": [
    "plt.plot(training_accuracy_pca,label=\"training_accuracy_pca\")\n",
    "plt.plot(testing_accuracy_pca,label='test_accuracy_pca')\n",
    "plt.xticks(range(len(classifiers)),classifiers,rotation=90)\n",
    "plt.legend()"
   ]
  },
  {
   "cell_type": "code",
   "execution_count": 9,
   "metadata": {},
   "outputs": [],
   "source": [
    "from sklearn.model_selection import KFold,GridSearchCV\n",
    "from sklearn.pipeline import Pipeline\n",
    "from sklearn.decomposition import PCA\n",
    "from sklearn.neighbors import KNeighborsClassifier\n",
    "from sklearn.linear_model import LogisticRegression\n",
    "from sklearn.svm import LinearSVC,SVC\n",
    "from sklearn.tree import DecisionTreeClassifier\n",
    "from sklearn.ensemble import RandomForestClassifier,GradientBoostingClassifier\n",
    "from sklearn.preprocessing import StandardScaler\n",
    "from sklearn.feature_selection import RFE\n",
    "import time\n",
    "\n",
    "kfold = KFold(n_splits=5,shuffle=True,random_state=0)\n",
    "SCALER = [None,StandardScaler()]\n",
    "FEATURES = [40,32,28,26,24]\n",
    "REDUCER__N_COMPONENTS = [2,6,10,14,18,22]\n",
    "\n"
   ]
  },
  {
   "cell_type": "code",
   "execution_count": 88,
   "metadata": {
    "collapsed": true
   },
   "outputs": [],
   "source": [
    "training_accuracy_gridSearch = []\n",
    "testing_accuracy_gridSearch = []\n",
    "training_time_gridSearch = []\n",
    "prediction_time_gridSearch = []\n",
    "best_params_classifiers = {}"
   ]
  },
  {
   "cell_type": "code",
   "execution_count": 89,
   "metadata": {},
   "outputs": [
    {
     "name": "stdout",
     "output_type": "stream",
     "text": [
      "training time for <function classifier at 0x0000000007B02400> : 192.571\n",
      "predict time: 0.233\n",
      "Training Score 0.7712968530767689\n",
      "Testing Score 0.695054945054945\n",
      "Best Parameters {'classifier__n_neighbors': 8, 'scaler': StandardScaler(copy=True, with_mean=True, with_std=True)}\n"
     ]
    }
   ],
   "source": [
    "NEIGHBORS = range(1,11)\n",
    "\n",
    "pipe = Pipeline([('scaler',StandardScaler()),\n",
    "                 ('classifier',KNeighborsClassifier())])\n",
    "            \n",
    "param_grid = { 'scaler':SCALER,'classifier__n_neighbors': NEIGHBORS}\n",
    "            \n",
    "grid = GridSearchCV(pipe,param_grid,cv=kfold)\n",
    "            \n",
    "fit_time = time.time()            \n",
    "grid.fit(X_train,y_train)\n",
    "f_time = round(time.time()-fit_time,3)\n",
    "print('training time for {} : {}'.format(classifier,f_time))\n",
    "pred_time = time.time()\n",
    "predictions = grid.predict(X_test)\n",
    "p_time = round(time.time()-pred_time,3)\n",
    "print('predict time: {}'.format(p_time))\n",
    "            \n",
    "score_train = grid.score(X_train,y_train)\n",
    "print('Training Score {}'.format(score_train))\n",
    "score_test = grid.score(X_test,y_test)\n",
    "print('Testing Score {}'.format(score_test))\n",
    "training_accuracy_gridSearch.append(score_train)\n",
    "testing_accuracy_gridSearch.append(score_test)\n",
    "training_time_gridSearch.append(f_time)\n",
    "prediction_time_gridSearch.append(p_time)\n",
    "            \n",
    "best_params_classifiers['KNeighbors'] = grid.best_params_\n",
    "print('Best Parameters {}'.format(grid.best_params_))"
   ]
  },
  {
   "cell_type": "code",
   "execution_count": null,
   "metadata": {
    "collapsed": true
   },
   "outputs": [],
   "source": []
  },
  {
   "cell_type": "code",
   "execution_count": 90,
   "metadata": {},
   "outputs": [
    {
     "name": "stdout",
     "output_type": "stream",
     "text": [
      "training time for <function classifier at 0x0000000007B02400> : 40.347\n",
      "predict time: 0.001\n",
      "Training Score 0.7522549609140108\n",
      "Testing Score 0.6978021978021978\n",
      "Best Parameters {'classifier__C': 0.1, 'classifier__penalty': 'l1', 'scaler': None}\n"
     ]
    }
   ],
   "source": [
    "PENALTY = ['l2','l1']\n",
    "C_PARAM_LOG = [0.001,0.01,0.1,1,10,100]\n",
    "            \n",
    "pipe = Pipeline([\n",
    "                    ('scaler',StandardScaler()),\n",
    "                    ('classifier',LogisticRegression())\n",
    "                    ])\n",
    "            \n",
    "param_grid = { 'scaler':SCALER,\n",
    "                    'classifier__penalty':PENALTY,\n",
    "                    'classifier__C': C_PARAM_LOG,\n",
    "                    }\n",
    "\n",
    "logisticregression_grid = GridSearchCV(pipe,param_grid,cv=kfold)\n",
    "            \n",
    "fit_time = time.time()            \n",
    "logisticregression_grid.fit(X_train,y_train)\n",
    "f_time = round(time.time()-fit_time,3)\n",
    "print('training time for {} : {}'.format(classifier,f_time))\n",
    "pred_time = time.time()\n",
    "predictions = logisticregression_grid.predict(X_test)\n",
    "p_time = round(time.time()-pred_time,3)\n",
    "print('predict time: {}'.format(p_time))\n",
    "            \n",
    "score_train = logisticregression_grid.score(X_train,y_train)\n",
    "print('Training Score {}'.format(score_train))\n",
    "score_test = logisticregression_grid.score(X_test,y_test)\n",
    "print('Testing Score {}'.format(score_test))\n",
    "training_accuracy_gridSearch.append(score_train)\n",
    "testing_accuracy_gridSearch.append(score_test)\n",
    "training_time_gridSearch.append(f_time)\n",
    "prediction_time_gridSearch.append(p_time)\n",
    "            \n",
    "best_params_classifiers['LogisticRegression'] = logisticregression_grid.best_params_\n",
    "print('Best Parameters {}'.format(logisticregression_grid.best_params_))\n"
   ]
  },
  {
   "cell_type": "code",
   "execution_count": 91,
   "metadata": {},
   "outputs": [
    {
     "data": {
      "text/plain": [
       "Pipeline(memory=None,\n",
       "     steps=[('scaler', None), ('classifier', LogisticRegression(C=0.1, class_weight=None, dual=False, fit_intercept=True,\n",
       "          intercept_scaling=1, max_iter=100, multi_class='ovr', n_jobs=1,\n",
       "          penalty='l1', random_state=None, solver='liblinear', tol=0.0001,\n",
       "          verbose=0, warm_start=False))])"
      ]
     },
     "execution_count": 91,
     "metadata": {},
     "output_type": "execute_result"
    }
   ],
   "source": [
    "logisticregression_grid.best_estimator_"
   ]
  },
  {
   "cell_type": "code",
   "execution_count": 96,
   "metadata": {},
   "outputs": [
    {
     "data": {
      "text/plain": [
       "LogisticRegression(C=0.1, class_weight=None, dual=False, fit_intercept=True,\n",
       "          intercept_scaling=1, max_iter=100, multi_class='ovr', n_jobs=1,\n",
       "          penalty='l1', random_state=None, solver='liblinear', tol=0.0001,\n",
       "          verbose=0, warm_start=False)"
      ]
     },
     "execution_count": 96,
     "metadata": {},
     "output_type": "execute_result"
    }
   ],
   "source": [
    "logisticregression_grid.best_estimator_.named_steps['classifier']"
   ]
  },
  {
   "cell_type": "code",
   "execution_count": 98,
   "metadata": {},
   "outputs": [
    {
     "data": {
      "text/plain": [
       "array([[ -5.77929188e-03,  -6.10791610e-07,   5.77613764e-02,\n",
       "          4.23014041e-01,   5.00866458e-01,  -2.42231417e-02,\n",
       "         -7.55567759e-02,  -1.04295523e-01,  -4.70000418e-04,\n",
       "         -2.54398219e-03,   2.41022968e-01,  -7.89728103e-02,\n",
       "         -6.14905470e-02,   6.48313625e-02,  -7.15939018e-03,\n",
       "          4.38874742e-02,   8.03679060e-02,   1.65333922e-01,\n",
       "          2.40062265e-02,  -8.83309863e-02,   0.00000000e+00,\n",
       "          2.07940188e-01,   1.65125157e-01,  -1.52876939e-01,\n",
       "         -6.03864412e-02,   9.49510314e-02,  -1.31291673e-02,\n",
       "         -8.04710412e-03,  -1.93137038e-01,  -1.02572428e-02,\n",
       "         -5.19142314e-03,  -5.06467693e-02,   9.21894538e-02,\n",
       "         -1.29196191e-01,   1.47487214e-01,   2.70758662e-02,\n",
       "          7.85890577e-02,   5.89916516e-03,  -1.01902503e+00,\n",
       "          0.00000000e+00,  -1.29502231e+00,   0.00000000e+00,\n",
       "          0.00000000e+00,   0.00000000e+00,   0.00000000e+00,\n",
       "          0.00000000e+00,   0.00000000e+00,   0.00000000e+00,\n",
       "         -3.69108406e-01,   0.00000000e+00,  -3.05700047e-01,\n",
       "          0.00000000e+00,   0.00000000e+00,  -2.13407674e-01,\n",
       "         -2.53414307e-01,   0.00000000e+00,  -4.04780809e-01,\n",
       "          2.46356711e-02,   0.00000000e+00,   0.00000000e+00,\n",
       "         -3.14336154e-01,   0.00000000e+00,  -2.18860361e-01]])"
      ]
     },
     "execution_count": 98,
     "metadata": {},
     "output_type": "execute_result"
    }
   ],
   "source": [
    "logisticregression_grid.best_estimator_.named_steps['classifier'].coef_"
   ]
  },
  {
   "cell_type": "code",
   "execution_count": 103,
   "metadata": {},
   "outputs": [],
   "source": [
    "#plt.plot(logisticregression_grid.best_estimator_.named_steps['classifier'].coef_.T,'o',label=\"C=Default\")\n",
    "#plt.xticks(range(X_train.shape[1]),features,rotation=90)\n",
    "#plt.ylimit(-7,7)\n",
    "#plt.legend()"
   ]
  },
  {
   "cell_type": "code",
   "execution_count": 118,
   "metadata": {},
   "outputs": [
    {
     "data": {
      "text/plain": [
       "Index(['AgeYrs', 'Estimatedcost', 'CE_ACCESSIBILITY', 'CE_CSAT',\n",
       "       'CE_VALUEFORMONEY', 'EM_IMMEDIATEATTENTION', 'EM_NURSING', 'EM_DOCTOR',\n",
       "       'EM_OVERALL', 'AD_TIME', 'AD_TARRIFFPACKAGESEXPLAINATION',\n",
       "       'AD_STAFFATTITUDE', 'INR_ROOMCLEANLINESS', 'INR_ROOMPEACE',\n",
       "       'INR_ROOMEQUIPMENT', 'INR_ROOMAMBIENCE', 'FNB_FOODQUALITY',\n",
       "       'FNB_FOODDELIVERYTIME', 'FNB_DIETICIAN', 'FNB_STAFFATTITUDE',\n",
       "       'AE_ATTENDEECARE', 'AE_PATIENTSTATUSINFO', 'AE_ATTENDEEFOOD',\n",
       "       'DOC_TREATMENTEXPLAINATION', 'DOC_ATTITUDE', 'DOC_VISITS',\n",
       "       'DOC_TREATMENTEFFECTIVENESS', 'NS_CALLBELLRESPONSE',\n",
       "       'NS_NURSESATTITUDE', 'NS_NURSEPROACTIVENESS', 'NS_NURSEPATIENCE',\n",
       "       'OVS_OVERALLSTAFFATTITUDE', 'OVS_OVERALLSTAFFPROMPTNESS',\n",
       "       'OVS_SECURITYATTITUDE', 'DP_DISCHARGETIME', 'DP_DISCHARGEQUERIES',\n",
       "       'DP_DISCHARGEPROCESS', 'LengthofStay', 'MaritalStatus_Married',\n",
       "       'MaritalStatus_Separated', 'MaritalStatus_Single',\n",
       "       'MaritalStatus_Widowed', 'Sex_M', 'BedCategory_DAYCARE',\n",
       "       'BedCategory_GENERAL', 'BedCategory_GENERAL HD', 'BedCategory_ITU',\n",
       "       'BedCategory_Renal ICU', 'BedCategory_SEMISPECIAL',\n",
       "       'BedCategory_SEMISPECIAL HD', 'BedCategory_SPECIAL',\n",
       "       'BedCategory_ULTRA DLX', 'BedCategory_ULTRA SPL', 'Department_GEN',\n",
       "       'Department_GYNAEC', 'Department_ORTHO', 'Department_PEDIATRIC',\n",
       "       'Department_RENAL', 'Department_SPECIAL', 'InsPayorcategory_EXEMPTION',\n",
       "       'InsPayorcategory_INSURANCE', 'InsPayorcategory_INTERNATIONAL',\n",
       "       'InsPayorcategory_PATIENT'],\n",
       "      dtype='object')"
      ]
     },
     "execution_count": 118,
     "metadata": {},
     "output_type": "execute_result"
    }
   ],
   "source": [
    "features"
   ]
  },
  {
   "cell_type": "code",
   "execution_count": 104,
   "metadata": {},
   "outputs": [
    {
     "name": "stdout",
     "output_type": "stream",
     "text": [
      "training time for <function classifier at 0x0000000007B02400> : 122.574\n",
      "predict time: 0.001\n",
      "Training Score 0.7570655441972339\n",
      "Testing Score 0.6978021978021978\n",
      "Best Parameters {'classifier__C': 0.01, 'scaler': StandardScaler(copy=True, with_mean=True, with_std=True)}\n"
     ]
    }
   ],
   "source": [
    "\n",
    "C_PARAM_LSVC = [0.001,0.01,0.1,1,10,100]\n",
    "            \n",
    "pipe = Pipeline([\n",
    "                    ('scaler',StandardScaler()),\n",
    "                    ('classifier',LinearSVC())\n",
    "                    ])\n",
    "            \n",
    "param_grid = {\n",
    "                    'scaler':SCALER,\n",
    "                    'classifier__C': C_PARAM_LSVC,\n",
    "                    }\n",
    "\n",
    "linearsvc_grid = GridSearchCV(pipe,param_grid,cv=kfold)\n",
    "            \n",
    "fit_time = time.time()            \n",
    "linearsvc_grid.fit(X_train,y_train)\n",
    "f_time = round(time.time()-fit_time,3)\n",
    "print('training time for {} : {}'.format(classifier,f_time))\n",
    "pred_time = time.time()\n",
    "predictions = linearsvc_grid.predict(X_test)\n",
    "p_time = round(time.time()-pred_time,3)\n",
    "print('predict time: {}'.format(p_time))\n",
    "            \n",
    "score_train = linearsvc_grid.score(X_train,y_train)\n",
    "print('Training Score {}'.format(score_train))\n",
    "score_test = linearsvc_grid.score(X_test,y_test)\n",
    "print('Testing Score {}'.format(score_test))\n",
    "training_accuracy_gridSearch.append(score_train)\n",
    "testing_accuracy_gridSearch.append(score_test)\n",
    "training_time_gridSearch.append(f_time)\n",
    "prediction_time_gridSearch.append(p_time)\n",
    "            \n",
    "best_params_classifiers['LinearSVC'] = linearsvc_grid.best_params_\n",
    "print('Best Parameters {}'.format(linearsvc_grid.best_params_))\n"
   ]
  },
  {
   "cell_type": "code",
   "execution_count": 105,
   "metadata": {},
   "outputs": [
    {
     "name": "stdout",
     "output_type": "stream",
     "text": [
      "training time for <function classifier at 0x0000000007B02400> : 41.987\n",
      "predict time: 0.003\n",
      "Training Score 0.8813389456804971\n",
      "Testing Score 0.6730769230769231\n",
      "Best Parameters {'classifier__class_weight': None, 'classifier__criterion': 'entropy', 'classifier__min_samples_split': 14, 'classifier__splitter': 'random', 'scaler': StandardScaler(copy=True, with_mean=True, with_std=True)}\n"
     ]
    }
   ],
   "source": [
    "CRITERION = ['gini','entropy']\n",
    "SPLITTER = ['best','random']\n",
    "MIN_SAMPLES_SPLIT = [8,10,12,14,16]\n",
    "MAX_DEPTH = [6,12,18]\n",
    "CLASS_WEIGHT = ['balanced',None]\n",
    "            \n",
    "pipe = Pipeline([\n",
    "                    ('scaler',StandardScaler()),\n",
    "                    ('classifier',DecisionTreeClassifier())\n",
    "                    ])\n",
    "            \n",
    "param_grid = {\n",
    "                'scaler': SCALER,\n",
    "                'classifier__criterion': CRITERION,\n",
    "                'classifier__splitter': SPLITTER,\n",
    "                \n",
    "                'classifier__min_samples_split': MIN_SAMPLES_SPLIT,\n",
    "                'classifier__class_weight': CLASS_WEIGHT,\n",
    "            }\n",
    "\n",
    "decisiontree_grid = GridSearchCV(pipe,param_grid,cv=kfold)\n",
    "            \n",
    "fit_time = time.time()            \n",
    "decisiontree_grid.fit(X_train,y_train)\n",
    "f_time = round(time.time()-fit_time,3)\n",
    "print('training time for {} : {}'.format(classifier,f_time))\n",
    "pred_time = time.time()\n",
    "predictions = decisiontree_grid.predict(X_test)\n",
    "p_time = round(time.time()-pred_time,3)\n",
    "print('predict time: {}'.format(p_time))\n",
    "            \n",
    "score_train = decisiontree_grid.score(X_train,y_train)\n",
    "print('Training Score {}'.format(score_train))\n",
    "score_test = decisiontree_grid.score(X_test,y_test)\n",
    "print('Testing Score {}'.format(score_test))\n",
    "training_accuracy_gridSearch.append(score_train)\n",
    "testing_accuracy_gridSearch.append(score_test)\n",
    "training_time_gridSearch.append(f_time)\n",
    "prediction_time_gridSearch.append(p_time)\n",
    "            \n",
    "best_params_classifiers['DecisionTreeClassifier'] = decisiontree_grid.best_params_\n",
    "print('Best Parameters {}'.format(decisiontree_grid.best_params_))"
   ]
  },
  {
   "cell_type": "code",
   "execution_count": 202,
   "metadata": {},
   "outputs": [
    {
     "ename": "ValueError",
     "evalue": "The truth value of an array with more than one element is ambiguous. Use a.any() or a.all()",
     "output_type": "error",
     "traceback": [
      "\u001b[1;31m---------------------------------------------------------------------------\u001b[0m",
      "\u001b[1;31mValueError\u001b[0m                                Traceback (most recent call last)",
      "\u001b[1;32m<ipython-input-202-4982871e8b1a>\u001b[0m in \u001b[0;36m<module>\u001b[1;34m()\u001b[0m\n\u001b[0;32m      7\u001b[0m \u001b[0mplt\u001b[0m\u001b[1;33m.\u001b[0m\u001b[0mbarh\u001b[0m\u001b[1;33m(\u001b[0m\u001b[0mnp\u001b[0m\u001b[1;33m.\u001b[0m\u001b[0marray\u001b[0m\u001b[1;33m(\u001b[0m\u001b[0mrange\u001b[0m\u001b[1;33m(\u001b[0m\u001b[1;36m22\u001b[0m\u001b[1;33m)\u001b[0m\u001b[1;33m)\u001b[0m\u001b[1;33m,\u001b[0m\u001b[0mimportances\u001b[0m\u001b[1;33m[\u001b[0m\u001b[0mindices_used\u001b[0m\u001b[1;33m]\u001b[0m\u001b[1;33m,\u001b[0m\u001b[0mcolor\u001b[0m\u001b[1;33m=\u001b[0m\u001b[1;34m'r'\u001b[0m\u001b[1;33m,\u001b[0m\u001b[0malign\u001b[0m\u001b[1;33m=\u001b[0m\u001b[1;34m'center'\u001b[0m\u001b[1;33m)\u001b[0m\u001b[1;33m\u001b[0m\u001b[0m\n\u001b[0;32m      8\u001b[0m \u001b[0mplt\u001b[0m\u001b[1;33m.\u001b[0m\u001b[0myticks\u001b[0m\u001b[1;33m(\u001b[0m\u001b[0mnp\u001b[0m\u001b[1;33m.\u001b[0m\u001b[0marray\u001b[0m\u001b[1;33m(\u001b[0m\u001b[0mrange\u001b[0m\u001b[1;33m(\u001b[0m\u001b[1;36m22\u001b[0m\u001b[1;33m)\u001b[0m\u001b[1;33m)\u001b[0m\u001b[1;33m,\u001b[0m\u001b[0mfeatures\u001b[0m\u001b[1;33m[\u001b[0m\u001b[0mindices_used\u001b[0m\u001b[1;33m]\u001b[0m\u001b[1;33m)\u001b[0m\u001b[1;33m\u001b[0m\u001b[0m\n\u001b[1;32m----> 9\u001b[1;33m \u001b[0mplt\u001b[0m\u001b[1;33m.\u001b[0m\u001b[0mylim\u001b[0m\u001b[1;33m(\u001b[0m\u001b[1;33m[\u001b[0m\u001b[1;33m-\u001b[0m\u001b[1;36m1\u001b[0m\u001b[1;33m,\u001b[0m\u001b[0mnp\u001b[0m\u001b[1;33m.\u001b[0m\u001b[0marray\u001b[0m\u001b[1;33m(\u001b[0m\u001b[0mrange\u001b[0m\u001b[1;33m(\u001b[0m\u001b[1;36m22\u001b[0m\u001b[1;33m)\u001b[0m\u001b[1;33m)\u001b[0m\u001b[1;33m]\u001b[0m\u001b[1;33m)\u001b[0m\u001b[1;33m\u001b[0m\u001b[0m\n\u001b[0m\u001b[0;32m     10\u001b[0m \u001b[0mplt\u001b[0m\u001b[1;33m.\u001b[0m\u001b[0mshow\u001b[0m\u001b[1;33m(\u001b[0m\u001b[1;33m)\u001b[0m\u001b[1;33m\u001b[0m\u001b[0m\n",
      "\u001b[1;32m~\\Anaconda3\\lib\\site-packages\\matplotlib\\pyplot.py\u001b[0m in \u001b[0;36mylim\u001b[1;34m(*args, **kwargs)\u001b[0m\n\u001b[0;32m   1629\u001b[0m     \u001b[1;32mif\u001b[0m \u001b[1;32mnot\u001b[0m \u001b[0margs\u001b[0m \u001b[1;32mand\u001b[0m \u001b[1;32mnot\u001b[0m \u001b[0mkwargs\u001b[0m\u001b[1;33m:\u001b[0m\u001b[1;33m\u001b[0m\u001b[0m\n\u001b[0;32m   1630\u001b[0m         \u001b[1;32mreturn\u001b[0m \u001b[0max\u001b[0m\u001b[1;33m.\u001b[0m\u001b[0mget_ylim\u001b[0m\u001b[1;33m(\u001b[0m\u001b[1;33m)\u001b[0m\u001b[1;33m\u001b[0m\u001b[0m\n\u001b[1;32m-> 1631\u001b[1;33m     \u001b[0mret\u001b[0m \u001b[1;33m=\u001b[0m \u001b[0max\u001b[0m\u001b[1;33m.\u001b[0m\u001b[0mset_ylim\u001b[0m\u001b[1;33m(\u001b[0m\u001b[1;33m*\u001b[0m\u001b[0margs\u001b[0m\u001b[1;33m,\u001b[0m \u001b[1;33m**\u001b[0m\u001b[0mkwargs\u001b[0m\u001b[1;33m)\u001b[0m\u001b[1;33m\u001b[0m\u001b[0m\n\u001b[0m\u001b[0;32m   1632\u001b[0m     \u001b[1;32mreturn\u001b[0m \u001b[0mret\u001b[0m\u001b[1;33m\u001b[0m\u001b[0m\n\u001b[0;32m   1633\u001b[0m \u001b[1;33m\u001b[0m\u001b[0m\n",
      "\u001b[1;32m~\\Anaconda3\\lib\\site-packages\\matplotlib\\axes\\_base.py\u001b[0m in \u001b[0;36mset_ylim\u001b[1;34m(self, bottom, top, emit, auto, **kw)\u001b[0m\n\u001b[0;32m   3187\u001b[0m             \u001b[0mtop\u001b[0m \u001b[1;33m=\u001b[0m \u001b[0mold_top\u001b[0m\u001b[1;33m\u001b[0m\u001b[0m\n\u001b[0;32m   3188\u001b[0m \u001b[1;33m\u001b[0m\u001b[0m\n\u001b[1;32m-> 3189\u001b[1;33m         \u001b[1;32mif\u001b[0m \u001b[0mbottom\u001b[0m \u001b[1;33m==\u001b[0m \u001b[0mtop\u001b[0m\u001b[1;33m:\u001b[0m\u001b[1;33m\u001b[0m\u001b[0m\n\u001b[0m\u001b[0;32m   3190\u001b[0m             warnings.warn(\n\u001b[0;32m   3191\u001b[0m                 ('Attempting to set identical bottom==top results\\n'\n",
      "\u001b[1;31mValueError\u001b[0m: The truth value of an array with more than one element is ambiguous. Use a.any() or a.all()"
     ]
    },
    {
     "data": {
      "image/png": "[encoded data removed]",
      "text/plain": [
       "<matplotlib.figure.Figure at 0xd2970b8>"
      ]
     },
     "metadata": {},
     "output_type": "display_data"
    }
   ],
   "source": [
    "importances = decisiontree_grid.best_estimator_.named_steps['classifier'].feature_importances_\n",
    "indices = np.argsort(decisiontree_grid.best_estimator_.named_steps['classifier'].feature_importances_)\n",
    "indices_used = indices[-22:]\n",
    "\n",
    "plt.figure()\n",
    "plt.title('Feature Importances (Decision Tree)')\n",
    "plt.barh(np.array(range(22)),importances[indices_used],color='r',align='center')\n",
    "plt.yticks(np.array(range(22)),features[indices_used])\n",
    "plt.ylim([-1,np.array(range(22))])\n",
    "plt.show()"
   ]
  },
  {
   "cell_type": "code",
   "execution_count": 172,
   "metadata": {},
   "outputs": [
    {
     "name": "stdout",
     "output_type": "stream",
     "text": [
      "training time for <function classifier at 0x0000000007B02400> : 3836.716\n",
      "predict time: 0.104\n",
      "Training Score 0.9757466426137502\n",
      "Testing Score 0.7335164835164835\n",
      "Best Parameters {'classifier__class_weight': 'balanced', 'classifier__criterion': 'entropy', 'classifier__max_features': 8, 'classifier__min_samples_split': 6, 'classifier__n_estimators': 90, 'scaler': None}\n"
     ]
    }
   ],
   "source": [
    "ESTIMATOR = [10,30,50,70,90,110]\n",
    "CRITERION_RFC = ['gini','entropy']\n",
    "FEATURES = ['auto',8,10,12]\n",
    "MIN_SAMPLES_SPLIT = [2,4,6,8]\n",
    "CLASS_WEIGHT = ['balanced',None]\n",
    "            \n",
    "\n",
    "\n",
    "pipe = Pipeline([\n",
    "                    ('scaler',StandardScaler()),\n",
    "                   \n",
    "                    ('classifier',RandomForestClassifier(n_jobs=-1,random_state=42))\n",
    "                    ])\n",
    "            \n",
    "param_grid = {\n",
    "                'scaler': SCALER,\n",
    "               \n",
    "                'classifier__n_estimators' : ESTIMATOR,\n",
    "                'classifier__criterion': CRITERION,\n",
    "                'classifier__max_features': FEATURES,\n",
    "                'classifier__min_samples_split': MIN_SAMPLES_SPLIT,\n",
    "                'classifier__class_weight': CLASS_WEIGHT,\n",
    "            }\n",
    "\n",
    "randomforest_grid = GridSearchCV(pipe,param_grid,cv=kfold)\n",
    "            \n",
    "fit_time = time.time()            \n",
    "randomforest_grid.fit(X_train,y_train)\n",
    "f_time = round(time.time()-fit_time,3)\n",
    "print('training time for {} : {}'.format(classifier,f_time))\n",
    "pred_time = time.time()\n",
    "predictions = randomforest_grid.predict(X_test)\n",
    "p_time = round(time.time()-pred_time,3)\n",
    "print('predict time: {}'.format(p_time))\n",
    "            \n",
    "score_train = randomforest_grid.score(X_train,y_train)\n",
    "print('Training Score {}'.format(score_train))\n",
    "score_test = randomforest_grid.score(X_test,y_test)\n",
    "print('Testing Score {}'.format(score_test))\n",
    "training_accuracy_gridSearch.append(score_train)\n",
    "testing_accuracy_gridSearch.append(score_test)\n",
    "training_time_gridSearch.append(f_time)\n",
    "prediction_time_gridSearch.append(p_time)\n",
    "            \n",
    "best_params_classifiers['RandomForestClassifier'] = randomforest_grid.best_params_\n",
    "print('Best Parameters {}'.format(randomforest_grid.best_params_))"
   ]
  },
  {
   "cell_type": "code",
   "execution_count": 205,
   "metadata": {},
   "outputs": [
    {
     "ename": "ValueError",
     "evalue": "The truth value of an array with more than one element is ambiguous. Use a.any() or a.all()",
     "output_type": "error",
     "traceback": [
      "\u001b[1;31m---------------------------------------------------------------------------\u001b[0m",
      "\u001b[1;31mValueError\u001b[0m                                Traceback (most recent call last)",
      "\u001b[1;32m<ipython-input-205-2be8aaba93e0>\u001b[0m in \u001b[0;36m<module>\u001b[1;34m()\u001b[0m\n\u001b[0;32m     15\u001b[0m \u001b[1;31m# change indices to a list of labels on the following line.\u001b[0m\u001b[1;33m\u001b[0m\u001b[1;33m\u001b[0m\u001b[0m\n\u001b[0;32m     16\u001b[0m \u001b[0mplt\u001b[0m\u001b[1;33m.\u001b[0m\u001b[0myticks\u001b[0m\u001b[1;33m(\u001b[0m\u001b[0mrange\u001b[0m\u001b[1;33m(\u001b[0m\u001b[1;36m22\u001b[0m\u001b[1;33m)\u001b[0m\u001b[1;33m,\u001b[0m \u001b[0mrf_features_used\u001b[0m\u001b[1;33m)\u001b[0m\u001b[1;33m\u001b[0m\u001b[0m\n\u001b[1;32m---> 17\u001b[1;33m \u001b[0mplt\u001b[0m\u001b[1;33m.\u001b[0m\u001b[0mylim\u001b[0m\u001b[1;33m(\u001b[0m\u001b[1;33m[\u001b[0m\u001b[1;33m-\u001b[0m\u001b[1;36m1\u001b[0m\u001b[1;33m,\u001b[0m \u001b[0mrange\u001b[0m\u001b[1;33m(\u001b[0m\u001b[1;36m22\u001b[0m\u001b[1;33m)\u001b[0m\u001b[1;33m]\u001b[0m\u001b[1;33m)\u001b[0m\u001b[1;33m\u001b[0m\u001b[0m\n\u001b[0m\u001b[0;32m     18\u001b[0m \u001b[0mplt\u001b[0m\u001b[1;33m.\u001b[0m\u001b[0mshow\u001b[0m\u001b[1;33m(\u001b[0m\u001b[1;33m)\u001b[0m\u001b[1;33m\u001b[0m\u001b[0m\n",
      "\u001b[1;32m~\\Anaconda3\\lib\\site-packages\\matplotlib\\pyplot.py\u001b[0m in \u001b[0;36mylim\u001b[1;34m(*args, **kwargs)\u001b[0m\n\u001b[0;32m   1629\u001b[0m     \u001b[1;32mif\u001b[0m \u001b[1;32mnot\u001b[0m \u001b[0margs\u001b[0m \u001b[1;32mand\u001b[0m \u001b[1;32mnot\u001b[0m \u001b[0mkwargs\u001b[0m\u001b[1;33m:\u001b[0m\u001b[1;33m\u001b[0m\u001b[0m\n\u001b[0;32m   1630\u001b[0m         \u001b[1;32mreturn\u001b[0m \u001b[0max\u001b[0m\u001b[1;33m.\u001b[0m\u001b[0mget_ylim\u001b[0m\u001b[1;33m(\u001b[0m\u001b[1;33m)\u001b[0m\u001b[1;33m\u001b[0m\u001b[0m\n\u001b[1;32m-> 1631\u001b[1;33m     \u001b[0mret\u001b[0m \u001b[1;33m=\u001b[0m \u001b[0max\u001b[0m\u001b[1;33m.\u001b[0m\u001b[0mset_ylim\u001b[0m\u001b[1;33m(\u001b[0m\u001b[1;33m*\u001b[0m\u001b[0margs\u001b[0m\u001b[1;33m,\u001b[0m \u001b[1;33m**\u001b[0m\u001b[0mkwargs\u001b[0m\u001b[1;33m)\u001b[0m\u001b[1;33m\u001b[0m\u001b[0m\n\u001b[0m\u001b[0;32m   1632\u001b[0m     \u001b[1;32mreturn\u001b[0m \u001b[0mret\u001b[0m\u001b[1;33m\u001b[0m\u001b[0m\n\u001b[0;32m   1633\u001b[0m \u001b[1;33m\u001b[0m\u001b[0m\n",
      "\u001b[1;32m~\\Anaconda3\\lib\\site-packages\\matplotlib\\axes\\_base.py\u001b[0m in \u001b[0;36mset_ylim\u001b[1;34m(self, bottom, top, emit, auto, **kw)\u001b[0m\n\u001b[0;32m   3193\u001b[0m                  'bottom=%s, top=%s') % (bottom, top))\n\u001b[0;32m   3194\u001b[0m \u001b[1;33m\u001b[0m\u001b[0m\n\u001b[1;32m-> 3195\u001b[1;33m         \u001b[0mbottom\u001b[0m\u001b[1;33m,\u001b[0m \u001b[0mtop\u001b[0m \u001b[1;33m=\u001b[0m \u001b[0mmtransforms\u001b[0m\u001b[1;33m.\u001b[0m\u001b[0mnonsingular\u001b[0m\u001b[1;33m(\u001b[0m\u001b[0mbottom\u001b[0m\u001b[1;33m,\u001b[0m \u001b[0mtop\u001b[0m\u001b[1;33m,\u001b[0m \u001b[0mincreasing\u001b[0m\u001b[1;33m=\u001b[0m\u001b[1;32mFalse\u001b[0m\u001b[1;33m)\u001b[0m\u001b[1;33m\u001b[0m\u001b[0m\n\u001b[0m\u001b[0;32m   3196\u001b[0m         \u001b[0mbottom\u001b[0m\u001b[1;33m,\u001b[0m \u001b[0mtop\u001b[0m \u001b[1;33m=\u001b[0m \u001b[0mself\u001b[0m\u001b[1;33m.\u001b[0m\u001b[0myaxis\u001b[0m\u001b[1;33m.\u001b[0m\u001b[0mlimit_range_for_scale\u001b[0m\u001b[1;33m(\u001b[0m\u001b[0mbottom\u001b[0m\u001b[1;33m,\u001b[0m \u001b[0mtop\u001b[0m\u001b[1;33m)\u001b[0m\u001b[1;33m\u001b[0m\u001b[0m\n\u001b[0;32m   3197\u001b[0m \u001b[1;33m\u001b[0m\u001b[0m\n",
      "\u001b[1;32m~\\Anaconda3\\lib\\site-packages\\matplotlib\\transforms.py\u001b[0m in \u001b[0;36mnonsingular\u001b[1;34m(vmin, vmax, expander, tiny, increasing)\u001b[0m\n\u001b[0;32m   2771\u001b[0m     \u001b[0mclose\u001b[0m \u001b[0mto\u001b[0m \u001b[0mzero\u001b[0m\u001b[1;33m,\u001b[0m \u001b[0mit\u001b[0m \u001b[0mreturns\u001b[0m \u001b[1;33m-\u001b[0m\u001b[1;33m*\u001b[0m\u001b[0mexpander\u001b[0m\u001b[1;33m*\u001b[0m\u001b[1;33m,\u001b[0m \u001b[1;33m*\u001b[0m\u001b[0mexpander\u001b[0m\u001b[1;33m*\u001b[0m\u001b[1;33m.\u001b[0m\u001b[1;33m\u001b[0m\u001b[0m\n\u001b[0;32m   2772\u001b[0m     '''\n\u001b[1;32m-> 2773\u001b[1;33m     \u001b[1;32mif\u001b[0m \u001b[1;33m(\u001b[0m\u001b[1;32mnot\u001b[0m \u001b[0mnp\u001b[0m\u001b[1;33m.\u001b[0m\u001b[0misfinite\u001b[0m\u001b[1;33m(\u001b[0m\u001b[0mvmin\u001b[0m\u001b[1;33m)\u001b[0m\u001b[1;33m)\u001b[0m \u001b[1;32mor\u001b[0m \u001b[1;33m(\u001b[0m\u001b[1;32mnot\u001b[0m \u001b[0mnp\u001b[0m\u001b[1;33m.\u001b[0m\u001b[0misfinite\u001b[0m\u001b[1;33m(\u001b[0m\u001b[0mvmax\u001b[0m\u001b[1;33m)\u001b[0m\u001b[1;33m)\u001b[0m\u001b[1;33m:\u001b[0m\u001b[1;33m\u001b[0m\u001b[0m\n\u001b[0m\u001b[0;32m   2774\u001b[0m         \u001b[1;32mreturn\u001b[0m \u001b[1;33m-\u001b[0m\u001b[0mexpander\u001b[0m\u001b[1;33m,\u001b[0m \u001b[0mexpander\u001b[0m\u001b[1;33m\u001b[0m\u001b[0m\n\u001b[0;32m   2775\u001b[0m \u001b[1;33m\u001b[0m\u001b[0m\n",
      "\u001b[1;31mValueError\u001b[0m: The truth value of an array with more than one element is ambiguous. Use a.any() or a.all()"
     ]
    },
    {
     "data": {
      "image/png": "[encoded data removed]",
      "text/plain": [
       "<matplotlib.figure.Figure at 0xcef7630>"
      ]
     },
     "metadata": {},
     "output_type": "display_data"
    }
   ],
   "source": [
    "randomforest_importances = randomforest_grid.best_estimator_.named_steps['classifier'].feature_importances_\n",
    "std = np.std([tree.feature_importances_ for tree in randomforest_grid.best_estimator_.named_steps['classifier'].estimators_],\n",
    "             axis=0)\n",
    "rf_indices = np.argsort(randomforest_importances)\n",
    "rf_features = features[rf_indices]\n",
    "rf_indices_used = rf_indices[-22:]\n",
    "rf_features_used = features[rf_indices_used]\n",
    "\n",
    "# Plot the feature importances of the forest\n",
    "plt.figure()\n",
    "plt.title(\"Feature importances (Random Forest)\")\n",
    "plt.barh(range(22), randomforest_importances[rf_indices_used],\n",
    "       color=\"b\", align=\"center\")\n",
    "# If you want to define your own labels,\n",
    "# change indices to a list of labels on the following line.\n",
    "plt.yticks(range(22), rf_features_used)\n",
    "plt.ylim([-1, range(22)])\n",
    "plt.show()"
   ]
  },
  {
   "cell_type": "code",
   "execution_count": 179,
   "metadata": {},
   "outputs": [
    {
     "name": "stdout",
     "output_type": "stream",
     "text": [
      "training time for <function classifier at 0x0000000007B02400> : 4196.25\n",
      "predict time: 0.001\n",
      "Training Score 0.7889356584485869\n",
      "Testing Score 0.7142857142857143\n",
      "Best Parameters {'classifier__learning_rate': 0.1, 'classifier__max_depth': 3, 'classifier__min_samples_split': 4, 'classifier__n_estimators': 70, 'scaler': None}\n"
     ]
    }
   ],
   "source": [
    "ESTIMATOR = [10,50,70,100]\n",
    "MIN_SAMPLES_SPLIT = [2,4,6,8]\n",
    "LEARNINGRATE = [0.001,0.01,0.1]\n",
    "MAXDEPTH = [2,3,5,7,9]\n",
    "CLASS_WEIGHT = ['balanced',None]\n",
    "\n",
    "\n",
    "pipe = Pipeline([\n",
    "                    ('scaler',StandardScaler()),\n",
    "                    \n",
    "                    ('classifier',GradientBoostingClassifier(random_state=42))\n",
    "                    ])\n",
    "            \n",
    "param_grid = {\n",
    "                'scaler': SCALER,\n",
    "                \n",
    "                'classifier__learning_rate': LEARNINGRATE,\n",
    "                'classifier__n_estimators' : ESTIMATOR,\n",
    "                'classifier__min_samples_split': MIN_SAMPLES_SPLIT,\n",
    "                'classifier__max_depth': MAXDEPTH\n",
    "}\n",
    "\n",
    "gradientboosting_grid = GridSearchCV(pipe,param_grid,cv=kfold)\n",
    "            \n",
    "fit_time = time.time()            \n",
    "gradientboosting_grid.fit(X_train,y_train)\n",
    "f_time = round(time.time()-fit_time,3)\n",
    "print('training time for {} : {}'.format(classifier,f_time))\n",
    "pred_time = time.time()\n",
    "predictions = gradientboosting_grid.predict(X_test)\n",
    "p_time = round(time.time()-pred_time,3)\n",
    "print('predict time: {}'.format(p_time))\n",
    "            \n",
    "score_train = gradientboosting_grid.score(X_train,y_train)\n",
    "print('Training Score {}'.format(score_train))\n",
    "score_test = gradientboosting_grid.score(X_test,y_test)\n",
    "print('Testing Score {}'.format(score_test))\n",
    "training_accuracy_gridSearch.append(score_train)\n",
    "testing_accuracy_gridSearch.append(score_test)\n",
    "training_time_gridSearch.append(f_time)\n",
    "prediction_time_gridSearch.append(p_time)\n",
    "            \n",
    "best_params_classifiers['GradientBoostingClassifier'] = gradientboosting_grid.best_params_\n",
    "print('Best Parameters {}'.format(gradientboosting_grid.best_params_))\n"
   ]
  },
  {
   "cell_type": "code",
   "execution_count": null,
   "metadata": {
    "collapsed": true
   },
   "outputs": [],
   "source": []
  },
  {
   "cell_type": "code",
   "execution_count": 17,
   "metadata": {},
   "outputs": [
    {
     "name": "stdout",
     "output_type": "stream",
     "text": [
      "training time for <function classifier at 0x0000000007B02400> : 6258.984\n",
      "predict time: 0.292\n",
      "Training Score 0.8025656444177189\n",
      "Testing Score 0.7060439560439561\n",
      "Best Parameters {'classifier__C': 1, 'classifier__gamma': 0.01, 'classifier__kernel': 'rbf', 'scaler': StandardScaler(copy=True, with_mean=True, with_std=True)}\n"
     ]
    }
   ],
   "source": [
    "C_PARAM = [0.001,0.01,0.1,1,10,100]\n",
    "GAMMA_PARAM = [0.001,0.01,0.1,1,10,100]\n",
    "KERNEL = ['rbf','sigmoid']\n",
    "            \n",
    "pipe = Pipeline([\n",
    "                    ('scaler',StandardScaler()),\n",
    "                   \n",
    "                    ('classifier',SVC())\n",
    "                    ])\n",
    "            \n",
    "param_grid = {\n",
    "                    'scaler':SCALER,\n",
    "                    \n",
    "                    'classifier__C': C_PARAM,\n",
    "                    'classifier__gamma': GAMMA_PARAM,\n",
    "                    'classifier__kernel': KERNEL\n",
    "                    }\n",
    "\n",
    "svc_gridscv = GridSearchCV(pipe,param_grid,cv=kfold)\n",
    "            \n",
    "fit_time = time.time()            \n",
    "svc_gridscv.fit(X_train,y_train)\n",
    "f_time = round(time.time()-fit_time,3)\n",
    "print('training time for {} : {}'.format(classifier,f_time))\n",
    "pred_time = time.time()\n",
    "predictions = svc_gridscv.predict(X_test)\n",
    "p_time = round(time.time()-pred_time,3)\n",
    "print('predict time: {}'.format(p_time))\n",
    "            \n",
    "score_train = svc_gridscv.score(X_train,y_train)\n",
    "print('Training Score {}'.format(score_train))\n",
    "score_test = svc_gridscv.score(X_test,y_test)\n",
    "print('Testing Score {}'.format(score_test))\n",
    "training_accuracy_gridSearch.append(score_train)\n",
    "testing_accuracy_gridSearch.append(score_test)\n",
    "training_time_gridSearch.append(f_time)\n",
    "prediction_time_gridSearch.append(p_time)\n",
    "            \n",
    "best_params_classifiers['SVC'] = svc_gridscv.best_params_\n",
    "print('Best Parameters {}'.format(svc_gridscv.best_params_))\n"
   ]
  },
  {
   "cell_type": "code",
   "execution_count": 18,
   "metadata": {},
   "outputs": [
    {
     "name": "stdout",
     "output_type": "stream",
     "text": [
      "training time for <function classifier at 0x0000000007B02400> : 1.061\n",
      "predict time: 0.0\n",
      "Training Score 0.6758869512928443\n",
      "Testing Score 0.6620879120879121\n",
      "Best Parameters {'scaler': None}\n"
     ]
    }
   ],
   "source": [
    "from sklearn.naive_bayes import GaussianNB\n",
    "\n",
    "pipe = Pipeline([\n",
    "                    ('scaler',StandardScaler()),\n",
    "                   \n",
    "                    ('classifier',GaussianNB())\n",
    "                    ])\n",
    "            \n",
    "param_grid = {\n",
    "                    'scaler':SCALER,\n",
    "                    \n",
    "                    }\n",
    "\n",
    "grid = GridSearchCV(pipe,param_grid,cv=kfold)\n",
    "            \n",
    "fit_time = time.time()            \n",
    "grid.fit(X_train,y_train)\n",
    "f_time = round(time.time()-fit_time,3)\n",
    "print('training time for {} : {}'.format(classifier,f_time))\n",
    "pred_time = time.time()\n",
    "predictions = grid.predict(X_test)\n",
    "p_time = round(time.time()-pred_time,3)\n",
    "print('predict time: {}'.format(p_time))\n",
    "            \n",
    "score_train = grid.score(X_train,y_train)\n",
    "print('Training Score {}'.format(score_train))\n",
    "score_test = grid.score(X_test,y_test)\n",
    "print('Testing Score {}'.format(score_test))\n",
    "training_accuracy_gridSearch.append(score_train)\n",
    "testing_accuracy_gridSearch.append(score_test)\n",
    "training_time_gridSearch.append(f_time)\n",
    "prediction_time_gridSearch.append(p_time)\n",
    "            \n",
    "best_params_classifiers['SVC'] = grid.best_params_\n",
    "print('Best Parameters {}'.format(grid.best_params_))"
   ]
  },
  {
   "cell_type": "code",
   "execution_count": null,
   "metadata": {
    "collapsed": true
   },
   "outputs": [],
   "source": []
  },
  {
   "cell_type": "code",
   "execution_count": 19,
   "metadata": {
    "collapsed": true
   },
   "outputs": [],
   "source": [
    "classifiers = ['KNeighbors',\n",
    " 'LogisticRegression',\n",
    " 'LinearSVC',\n",
    " 'DecisionTree',\n",
    " 'RandomForest',\n",
    " 'GradientBoosting',\n",
    " 'SVC',\n",
    "'GaussianNB']"
   ]
  },
  {
   "cell_type": "code",
   "execution_count": null,
   "metadata": {
    "collapsed": true
   },
   "outputs": [],
   "source": []
  },
  {
   "cell_type": "code",
   "execution_count": 20,
   "metadata": {},
   "outputs": [
    {
     "data": {
      "text/plain": [
       "<matplotlib.legend.Legend at 0xc12dd30>"
      ]
     },
     "execution_count": 20,
     "metadata": {},
     "output_type": "execute_result"
    },
    {
     "data": {
      "image/png": "[encoded data removed]",
      "text/plain": [
       "<matplotlib.figure.Figure at 0xcf9f4e0>"
      ]
     },
     "metadata": {},
     "output_type": "display_data"
    }
   ],
   "source": [
    "plt.plot(training_accuracy_gridSearch,label=\"training_accuracy_gridSearch\")\n",
    "plt.plot(testing_accuracy_gridSearch,label='test_accuracy_gridSearch')\n",
    "plt.xticks(range(len(classifiers)),classifiers,rotation=90)\n",
    "plt.legend()"
   ]
  },
  {
   "cell_type": "code",
   "execution_count": null,
   "metadata": {
    "collapsed": true
   },
   "outputs": [],
   "source": []
  },
  {
   "cell_type": "code",
   "execution_count": 51,
   "metadata": {},
   "outputs": [
    {
     "data": {
      "text/plain": [
       "<matplotlib.legend.Legend at 0xc16dbe0>"
      ]
     },
     "execution_count": 51,
     "metadata": {},
     "output_type": "execute_result"
    },
    {
     "data": {
      "image/png": "[encoded data removed]",
      "text/plain": [
       "<matplotlib.figure.Figure at 0xcc9d470>"
      ]
     },
     "metadata": {},
     "output_type": "display_data"
    }
   ],
   "source": [
    "plt.plot(training_time_gridSearch,label=\"training_time\")\n",
    "plt.plot(prediction_time_gridSearch,label='prediction_time')\n",
    "plt.xticks(range(len(classifiers)),classifiers,rotation=90)\n",
    "plt.legend()"
   ]
  },
  {
   "cell_type": "code",
   "execution_count": 23,
   "metadata": {
    "collapsed": true
   },
   "outputs": [],
   "source": [
    "training_accuracy_fs = []\n",
    "testing_accuracy_fs = []\n",
    "\n",
    "best_params_classifiers_fs = {}\n",
    "\n",
    "kfold = KFold(n_splits=5,shuffle=True,random_state=0)\n",
    "SCALER = [None,StandardScaler()]\n",
    "FEATURES = [40,32,28,26,24]\n",
    "REDUCER__N_COMPONENTS = [2,6,10,14,18,22]"
   ]
  },
  {
   "cell_type": "code",
   "execution_count": 80,
   "metadata": {
    "collapsed": true
   },
   "outputs": [],
   "source": [
    "training_time_fs = []\n",
    "prediction_time_fs = []"
   ]
  },
  {
   "cell_type": "code",
   "execution_count": 24,
   "metadata": {},
   "outputs": [
    {
     "name": "stdout",
     "output_type": "stream",
     "text": [
      "training time for <function classifier at 0x0000000007B02400> : 4240.01\n",
      "predict time: 0.485\n"
     ]
    }
   ],
   "source": [
    "NEIGHBORS = range(1,11)\n",
    "\n",
    "pipe = Pipeline([\n",
    "                            ('scaler',StandardScaler()),\n",
    "                            ('selector',RFE(RandomForestClassifier(n_estimators=10,random_state=42))),\n",
    "                             ('classifier',\n",
    "                             KNeighborsClassifier())])\n",
    "param_grid = {\n",
    "                    'scaler': SCALER,\n",
    "                    'selector__n_features_to_select':FEATURES,\n",
    "                    'classifier__n_neighbors': NEIGHBORS\n",
    "                    }\n",
    "knn_grid = GridSearchCV(pipe,param_grid,cv=kfold)\n",
    "\n",
    "\n",
    "fit_time = time.time()            \n",
    "knn_grid.fit(X_train,y_train)\n",
    "f_time = round(time.time()-fit_time,3)\n",
    "print('training time for {} : {}'.format(classifier,f_time))\n",
    "pred_time = time.time()\n",
    "predictions = knn_grid.predict(X_test)\n",
    "p_time = round(time.time()-pred_time,3)\n",
    "print('predict time: {}'.format(p_time))\n",
    "            \n",
    "score_train = knn_grid.score(X_train,y_train)\n",
    "score_test = knn_grid.score(X_test,y_test)\n",
    "training_accuracy_fs.append(score_train)\n",
    "testing_accuracy_fs.append(score_test)\n",
    "training_time_fs.append(f_time)\n",
    "prediction_time_fs.append(p_time)\n",
    "            \n",
    "best_params_classifiers_fs[classifier] = knn_grid.best_params_"
   ]
  },
  {
   "cell_type": "code",
   "execution_count": 27,
   "metadata": {},
   "outputs": [
    {
     "name": "stdout",
     "output_type": "stream",
     "text": [
      "0.776909200241\n",
      "0.695054945055\n"
     ]
    }
   ],
   "source": [
    "print(score_train)\n",
    "print(score_test)"
   ]
  },
  {
   "cell_type": "code",
   "execution_count": 29,
   "metadata": {},
   "outputs": [
    {
     "name": "stdout",
     "output_type": "stream",
     "text": [
      "training time for <function classifier at 0x0000000007B02400> : 1924.09\n",
      "predict time: 0.0\n"
     ]
    }
   ],
   "source": [
    "PENALTY = ['l2','l1']\n",
    "C_PARAM_LOG = [0.001,0.01,0.1,1,10,100]\n",
    "            \n",
    "pipe = Pipeline([\n",
    "                    ('scaler',StandardScaler()),\n",
    "                    ('selector',RFE(RandomForestClassifier(n_estimators=10,random_state=42))),\n",
    "                   \n",
    "                    ('classifier',LogisticRegression())\n",
    "                    ])\n",
    "            \n",
    "param_grid = {\n",
    "                    'scaler':SCALER,\n",
    "                    'selector__n_features_to_select':FEATURES,\n",
    "                    \n",
    "                    'classifier__penalty':PENALTY,\n",
    "                    'classifier__C': C_PARAM_LOG,\n",
    "                    }\n",
    "lr_grid = GridSearchCV(pipe,param_grid,cv=kfold)\n",
    "            \n",
    "fit_time = time.time()            \n",
    "lr_grid.fit(X_train,y_train)\n",
    "f_time = round(time.time() - fit_time,3)\n",
    "print('training time for {} : {}'.format(classifier,f_time))\n",
    "pred_time = time.time()\n",
    "predictions = lr_grid.predict(X_test)\n",
    "p_time = round(time.time()-pred_time,3)\n",
    "print('predict time: {}'.format(p_time))\n",
    "            \n",
    "score_train = lr_grid.score(X_train,y_train)\n",
    "score_test = lr_grid.score(X_test,y_test)\n",
    "training_accuracy_fs.append(score_train)\n",
    "testing_accuracy_fs.append(score_test)\n",
    "training_time_fs.append(f_time)\n",
    "prediction_time_fs.append(p_time)\n",
    "\n",
    "best_params_classifiers_fs[classifier] = lr_grid.best_params_"
   ]
  },
  {
   "cell_type": "code",
   "execution_count": null,
   "metadata": {
    "collapsed": true
   },
   "outputs": [],
   "source": []
  },
  {
   "cell_type": "code",
   "execution_count": 30,
   "metadata": {},
   "outputs": [
    {
     "name": "stdout",
     "output_type": "stream",
     "text": [
      "training time for <function classifier at 0x0000000007B02400> : 1525296809.458\n",
      "predict time: 0.001\n"
     ]
    }
   ],
   "source": [
    "\n",
    "C_PARAM_LSVC = [0.001,0.01,0.1,1,10,100]\n",
    "            \n",
    "pipe = Pipeline([\n",
    "                    ('scaler',StandardScaler()),\n",
    "                    ('selector',RFE(RandomForestClassifier(n_estimators=10,random_state=42))),\n",
    "                    \n",
    "                    ('classifier',LinearSVC())\n",
    "                    ])\n",
    "            \n",
    "param_grid = {\n",
    "                    'scaler':SCALER,\n",
    "                    'selector__n_features_to_select':FEATURES,\n",
    "                   \n",
    "                 \n",
    "                    'classifier__C': C_PARAM_LSVC,\n",
    "                    }\n",
    "\n",
    "lsvc_grid = GridSearchCV(pipe,param_grid,cv=kfold)\n",
    "            \n",
    "fit_time = time.time()            \n",
    "lsvc_grid.fit(X_train,y_train)\n",
    "f_time = round(time.time()-f_time,3)\n",
    "print('training time for {} : {}'.format(classifier,f_time))\n",
    "pred_time = time.time()\n",
    "predictions = lsvc_grid.predict(X_test)\n",
    "p_time = round(time.time()-pred_time,3)\n",
    "print('predict time: {}'.format(p_time))\n",
    "            \n",
    "score_train = lsvc_grid.score(X_train,y_train)\n",
    "score_test = lsvc_grid.score(X_test,y_test)\n",
    "training_accuracy_fs.append(score_train)\n",
    "testing_accuracy_fs.append(score_test)\n",
    "training_time_fs.append(f_time)\n",
    "prediction_time_fs.append(p_time)\n",
    "            \n",
    "best_params_classifiers_fs[classifier] = lsvc_grid.best_params_"
   ]
  },
  {
   "cell_type": "code",
   "execution_count": null,
   "metadata": {
    "collapsed": true
   },
   "outputs": [],
   "source": []
  },
  {
   "cell_type": "code",
   "execution_count": 31,
   "metadata": {},
   "outputs": [
    {
     "name": "stdout",
     "output_type": "stream",
     "text": [
      "training time for <function classifier at 0x0000000007B02400> : 3823.367\n",
      "predict time: 0.001\n"
     ]
    }
   ],
   "source": [
    "CRITERION = ['gini','entropy']\n",
    "SPLITTER = ['best','random']\n",
    "MIN_SAMPLES_SPLIT = [2,4,6,8]\n",
    "CLASS_WEIGHT = ['balanced',None]\n",
    "            \n",
    "pipe = Pipeline([\n",
    "                    ('scaler',StandardScaler()),\n",
    "                    ('selector',RFE(RandomForestClassifier(n_estimators=10,random_state=42))),\n",
    "                   \n",
    "                    ('classifier',DecisionTreeClassifier())\n",
    "                    ])\n",
    "            \n",
    "param_grid = {\n",
    "                'scaler': SCALER,\n",
    "                'selector__n_features_to_select':FEATURES,\n",
    "                \n",
    "                'classifier__criterion': CRITERION,\n",
    "                'classifier__splitter': SPLITTER,\n",
    "                'classifier__min_samples_split': MIN_SAMPLES_SPLIT,\n",
    "                'classifier__class_weight': CLASS_WEIGHT,\n",
    "            }\n",
    "\n",
    "dt_grid = GridSearchCV(pipe,param_grid,cv=kfold)\n",
    "            \n",
    "fit_time = time.time()            \n",
    "dt_grid.fit(X_train,y_train)\n",
    "f_time = round(time.time()-fit_time,3)\n",
    "print('training time for {} : {}'.format(classifier,f_time))\n",
    "pred_time = time.time()\n",
    "predictions = dt_grid.predict(X_test)\n",
    "p_time = round(time.time()-pred_time,3)\n",
    "print('predict time: {}'.format(p_time))\n",
    "            \n",
    "score_train = dt_grid.score(X_train,y_train)\n",
    "score_test = dt_grid.score(X_test,y_test)\n",
    "training_accuracy_fs.append(score_train)\n",
    "testing_accuracy_fs.append(score_test)\n",
    "training_time_fs.append(f_time)\n",
    "prediction_time_fs.append(p_time)\n",
    "            \n",
    "best_params_classifiers_fs[classifier] = dt_grid.best_params_"
   ]
  },
  {
   "cell_type": "code",
   "execution_count": null,
   "metadata": {
    "collapsed": true
   },
   "outputs": [],
   "source": []
  },
  {
   "cell_type": "code",
   "execution_count": null,
   "metadata": {
    "collapsed": true
   },
   "outputs": [],
   "source": []
  },
  {
   "cell_type": "code",
   "execution_count": 32,
   "metadata": {},
   "outputs": [
    {
     "name": "stdout",
     "output_type": "stream",
     "text": [
      "training time for <function classifier at 0x0000000007B02400> : 2785.533\n",
      "predict time: 0.105\n"
     ]
    }
   ],
   "source": [
    "ESTIMATOR = [30,70,90,110]\n",
    "CRITERION_RFC = ['gini','entropy']\n",
    "rfc_FEATURES = ['auto',8,10,12]\n",
    "MIN_SAMPLES_SPLIT = [2,4,6,8]\n",
    "CLASS_WEIGHT = ['balanced',None]\n",
    "            \n",
    "\n",
    "\n",
    "pipe = Pipeline([\n",
    "                    ('scaler',StandardScaler()),\n",
    "                    \n",
    "                    \n",
    "                    ('classifier',RandomForestClassifier(n_jobs=-1,random_state=42))\n",
    "                    ])\n",
    "            \n",
    "param_grid = {\n",
    "                'scaler': SCALER,\n",
    "                \n",
    "                \n",
    "                'classifier__n_estimators' : ESTIMATOR,\n",
    "                'classifier__criterion': CRITERION_RFC,\n",
    "                'classifier__max_features': rfc_FEATURES,\n",
    "                'classifier__min_samples_split': MIN_SAMPLES_SPLIT,\n",
    "                'classifier__class_weight': CLASS_WEIGHT,\n",
    "            }\n",
    "\n",
    "rt_grid = GridSearchCV(pipe,param_grid,cv=kfold)\n",
    "            \n",
    "fit_time = time.time()            \n",
    "rt_grid.fit(X_train,y_train)\n",
    "f_time = round(time.time()-fit_time,3)\n",
    "print('training time for {} : {}'.format(classifier,f_time))\n",
    "pred_time = time.time()\n",
    "predictions = rt_grid.predict(X_test)\n",
    "p_time = round(time.time()-pred_time,3)\n",
    "print('predict time: {}'.format(p_time))\n",
    "            \n",
    "score_train = rt_grid.score(X_train,y_train)\n",
    "score_test = rt_grid.score(X_test,y_test)\n",
    "training_accuracy_fs.append(score_train)\n",
    "testing_accuracy_fs.append(score_test)\n",
    "training_time_fs.append(f_time)\n",
    "prediction_time_fs.append(p_time)\n",
    "            \n",
    "best_params_classifiers_fs[classifier] = rt_grid.best_params_"
   ]
  },
  {
   "cell_type": "code",
   "execution_count": null,
   "metadata": {
    "collapsed": true
   },
   "outputs": [],
   "source": []
  },
  {
   "cell_type": "code",
   "execution_count": 36,
   "metadata": {},
   "outputs": [
    {
     "name": "stdout",
     "output_type": "stream",
     "text": [
      "training time for <function classifier at 0x0000000007B02400> : 3690.28\n",
      "predict time: 0.0\n"
     ]
    }
   ],
   "source": [
    "ESTIMATOR = [10,50,70,100]\n",
    "MIN_SAMPLES_SPLIT = [2,4,6,8]\n",
    "LEARNINGRATE = [0.001,0.01,0.1]\n",
    "MAXDEPTH = [2,3,5,7,9]\n",
    "CLASS_WEIGHT = ['balanced',None]\n",
    "\n",
    "\n",
    "pipe = Pipeline([\n",
    "                    ('scaler',StandardScaler()),\n",
    "                  \n",
    "                    \n",
    "                    ('classifier',GradientBoostingClassifier(random_state=42))\n",
    "                    ])\n",
    "            \n",
    "param_grid = {\n",
    "                'scaler': SCALER,\n",
    "                \n",
    "               \n",
    "                'classifier__learning_rate': LEARNINGRATE,\n",
    "                'classifier__n_estimators' : ESTIMATOR,\n",
    "                'classifier__min_samples_split': MIN_SAMPLES_SPLIT,\n",
    "                'classifier__max_depth': MAXDEPTH\n",
    "                \n",
    "            }\n",
    "\n",
    "gb_grid = GridSearchCV(pipe,param_grid,cv=kfold)\n",
    "            \n",
    "fit_time = time.time()            \n",
    "gb_grid.fit(X_train,y_train)\n",
    "f_time = round(time.time()-fit_time,3)\n",
    "print('training time for {} : {}'.format(classifier,f_time))\n",
    "pred_time = time.time()\n",
    "predictions = gb_grid.predict(X_test)\n",
    "p_time = round(time.time()-pred_time,3)\n",
    "print('predict time: {}'.format(p_time))\n",
    "            \n",
    "score_train = gb_grid.score(X_train,y_train)\n",
    "score_test = gb_grid.score(X_test,y_test)\n",
    "training_accuracy_fs.append(score_train)\n",
    "testing_accuracy_fs.append(score_test)\n",
    "training_time_fs.append(f_time)\n",
    "prediction_time_fs.append(p_time)\n",
    "            \n",
    "best_params_classifiers_fs[classifier] = gb_grid.best_params_"
   ]
  },
  {
   "cell_type": "code",
   "execution_count": 69,
   "metadata": {
    "collapsed": true
   },
   "outputs": [],
   "source": [
    "training_accuracy_fs.append(gb_grid.score(X_train,y_train))"
   ]
  },
  {
   "cell_type": "code",
   "execution_count": 70,
   "metadata": {},
   "outputs": [
    {
     "data": {
      "text/plain": [
       "0.78893565844858693"
      ]
     },
     "execution_count": 70,
     "metadata": {},
     "output_type": "execute_result"
    }
   ],
   "source": [
    "gb_grid.score(X_train,y_train)"
   ]
  },
  {
   "cell_type": "code",
   "execution_count": 71,
   "metadata": {},
   "outputs": [
    {
     "data": {
      "text/plain": [
       "0.7142857142857143"
      ]
     },
     "execution_count": 71,
     "metadata": {},
     "output_type": "execute_result"
    }
   ],
   "source": [
    "gb_grid.score(X_test,y_test)"
   ]
  },
  {
   "cell_type": "code",
   "execution_count": null,
   "metadata": {
    "collapsed": true
   },
   "outputs": [],
   "source": []
  },
  {
   "cell_type": "code",
   "execution_count": 38,
   "metadata": {},
   "outputs": [
    {
     "name": "stdout",
     "output_type": "stream",
     "text": [
      "training time for <function classifier at 0x0000000007B02400> : 32229.517\n",
      "predict time: 0.195\n"
     ]
    }
   ],
   "source": [
    "C_PARAM = [0.001,0.01,0.1,1,10,100]\n",
    "GAMMA_PARAM = [0.001,0.01,0.1,1,10,100]\n",
    "FEATURES = [40,32,28,26,24,18,14]\n",
    "KERNEL = ['rbf','sigmoid']\n",
    "            \n",
    "pipe = Pipeline([\n",
    "                    ('scaler',StandardScaler()),\n",
    "                    ('selector',RFE(RandomForestClassifier(n_estimators=10,random_state=42))),\n",
    "                   \n",
    "                    ('classifier',SVC())\n",
    "                    ])\n",
    "            \n",
    "param_grid = {\n",
    "                    'scaler':SCALER,\n",
    "                    'selector__n_features_to_select':FEATURES,\n",
    "                  \n",
    "                    'classifier__C': C_PARAM,\n",
    "                    'classifier__gamma': GAMMA_PARAM,\n",
    "                    'classifier__kernel': KERNEL\n",
    "                    }\n",
    "\n",
    "svc_grid = GridSearchCV(pipe,param_grid,cv=kfold)\n",
    "            \n",
    "fit_time = time.time()            \n",
    "svc_grid.fit(X_train,y_train)\n",
    "f_time = round(time.time()-fit_time,3)\n",
    "print('training time for {} : {}'.format(classifier,f_time))\n",
    "pred_time = time.time()\n",
    "predictions = svc_grid.predict(X_test)\n",
    "p_time = round(time.time()-pred_time,3)\n",
    "print('predict time: {}'.format(p_time))\n",
    "            \n",
    "score_train = svc_grid.score(X_train,y_train)\n",
    "score_test = svc_grid.score(X_test,y_test)\n",
    "training_accuracy_fs.append(score_train)\n",
    "testing_accuracy_fs.append(score_test)\n",
    "training_time_fs.append(f_time)\n",
    "prediction_time_fs.append(p_time)\n",
    "            \n",
    "best_params_classifiers_fs[classifier] = svc_grid.best_params_"
   ]
  },
  {
   "cell_type": "code",
   "execution_count": 72,
   "metadata": {
    "collapsed": true
   },
   "outputs": [],
   "source": [
    "training_accuracy_fs.append(svc_grid.score(X_train,y_train))"
   ]
  },
  {
   "cell_type": "code",
   "execution_count": 206,
   "metadata": {},
   "outputs": [
    {
     "data": {
      "text/plain": [
       "0.78973742232912403"
      ]
     },
     "execution_count": 206,
     "metadata": {},
     "output_type": "execute_result"
    }
   ],
   "source": [
    "svc_grid.score(X_train,y_train)"
   ]
  },
  {
   "cell_type": "code",
   "execution_count": 207,
   "metadata": {},
   "outputs": [
    {
     "data": {
      "text/plain": [
       "0.70879120879120883"
      ]
     },
     "execution_count": 207,
     "metadata": {},
     "output_type": "execute_result"
    }
   ],
   "source": [
    "svc_grid.score(X_test,y_test)"
   ]
  },
  {
   "cell_type": "code",
   "execution_count": 40,
   "metadata": {},
   "outputs": [
    {
     "name": "stdout",
     "output_type": "stream",
     "text": [
      "training time for <function classifier at 0x0000000007B02400> : -348.819\n",
      "predict time: 0.0\n",
      "Training Score 0.6939266386049309\n",
      "Testing Score 0.6895604395604396\n",
      "Best Parameters {'scaler': StandardScaler(copy=True, with_mean=True, with_std=True), 'selector__n_features_to_select': 14}\n"
     ]
    }
   ],
   "source": [
    "FEATURES = [40,32,28,26,24,18,14]\n",
    "pipe = Pipeline([\n",
    "                    ('scaler',StandardScaler()),\n",
    "                    ('selector',RFE(RandomForestClassifier(n_estimators=10,random_state=42))),\n",
    "                   \n",
    "                    ('classifier',GaussianNB())\n",
    "                    ])\n",
    "            \n",
    "param_grid = {\n",
    "                    'scaler':SCALER,\n",
    "                    'selector__n_features_to_select':FEATURES\n",
    "                    \n",
    "                    }\n",
    "\n",
    "gnb_grid = GridSearchCV(pipe,param_grid,cv=kfold)\n",
    "            \n",
    "fit_time = time.time()            \n",
    "gnb_grid.fit(X_train,y_train)\n",
    "f_time = round(time.time()-fit_time,3)\n",
    "print('training time for {} : {}'.format(classifier,f_time))\n",
    "pred_time = time.time()\n",
    "predictions = gnb_grid.predict(X_test)\n",
    "p_time = round(time.time()-pred_time,3)\n",
    "print('predict time: {}'.format(p_time))\n",
    "            \n",
    "score_train = gnb_grid.score(X_train,y_train)\n",
    "print('Training Score {}'.format(score_train))\n",
    "score_test = gnb_grid.score(X_test,y_test)\n",
    "print('Testing Score {}'.format(score_test))\n",
    "training_accuracy_fs.append(score_train)\n",
    "testing_accuracy_fs.append(score_test)\n",
    "training_time_fs.append(f_time)\n",
    "prediction_time_fs.append(p_time)\n",
    "            \n",
    "best_params_classifiers_fs['GaussianNB'] = gnb_grid.best_params_\n",
    "print('Best Parameters {}'.format(gnb_grid.best_params_))"
   ]
  },
  {
   "cell_type": "code",
   "execution_count": 74,
   "metadata": {},
   "outputs": [
    {
     "data": {
      "text/plain": [
       "[0.77690920024052912,\n",
       " 0.75967127680897972,\n",
       " 0.75686510322709966,\n",
       " 0.93565844858689118,\n",
       " 0.97574664261375021,\n",
       " 0.78893565844858693,\n",
       " 0.79053918620966124]"
      ]
     },
     "execution_count": 74,
     "metadata": {},
     "output_type": "execute_result"
    }
   ],
   "source": [
    "#training_accuracy_fs = training_accuracy_fs[:-1]\n",
    "training_accuracy_fs"
   ]
  },
  {
   "cell_type": "code",
   "execution_count": 64,
   "metadata": {},
   "outputs": [
    {
     "data": {
      "text/plain": [
       "[0.69505494505494503,\n",
       " 0.70329670329670335,\n",
       " 0.6785714285714286,\n",
       " 0.64010989010989006,\n",
       " 0.73351648351648346,\n",
       " 0.7142857142857143,\n",
       " 0.70604395604395609]"
      ]
     },
     "execution_count": 64,
     "metadata": {},
     "output_type": "execute_result"
    }
   ],
   "source": [
    "#testing_accuracy_fs = testing_accuracy_fs[:-1]\n",
    "testing_accuracy_fs"
   ]
  },
  {
   "cell_type": "code",
   "execution_count": 59,
   "metadata": {
    "collapsed": true
   },
   "outputs": [],
   "source": [
    "training_time_fs = training_time_fs[:-1]\n",
    "prediction_time_fs = prediction_time_fs[:-1]"
   ]
  },
  {
   "cell_type": "code",
   "execution_count": 62,
   "metadata": {},
   "outputs": [],
   "source": [
    "classifiers_gscv = classifiers[:-1]"
   ]
  },
  {
   "cell_type": "code",
   "execution_count": 79,
   "metadata": {},
   "outputs": [
    {
     "data": {
      "text/plain": [
       "[0.485, 0.0, 0.001, 0.001, 0.105, 0.0]"
      ]
     },
     "execution_count": 79,
     "metadata": {},
     "output_type": "execute_result"
    }
   ],
   "source": [
    "prediction_time_fs"
   ]
  },
  {
   "cell_type": "code",
   "execution_count": 75,
   "metadata": {},
   "outputs": [
    {
     "data": {
      "text/plain": [
       "<matplotlib.legend.Legend at 0xcf4a710>"
      ]
     },
     "execution_count": 75,
     "metadata": {},
     "output_type": "execute_result"
    },
    {
     "data": {
      "image/png": "[encoded data removed]",
      "text/plain": [
       "<matplotlib.figure.Figure at 0xbfff5c0>"
      ]
     },
     "metadata": {},
     "output_type": "display_data"
    }
   ],
   "source": [
    "plt.plot(training_accuracy_fs,label=\"training_accuracy_FS\")\n",
    "plt.plot(testing_accuracy_fs,label='test_accuracy_FS')\n",
    "plt.xticks(range(len(classifiers_gscv)),classifiers_gscv,rotation=90)\n",
    "plt.legend()"
   ]
  },
  {
   "cell_type": "code",
   "execution_count": 81,
   "metadata": {},
   "outputs": [
    {
     "data": {
      "text/plain": [
       "'\\nplt.plot(training_time_fs,label=\"training_time_fs\")\\nplt.plot(prediction_time_fs,label=\\'prediction_time_fs\\')\\nplt.xticks(range(len(classifiers_gscv)),classifiers_gscv,rotation=90)\\nplt.legend()\\n'"
      ]
     },
     "execution_count": 81,
     "metadata": {},
     "output_type": "execute_result"
    }
   ],
   "source": [
    "'''\n",
    "plt.plot(training_time_fs,label=\"training_time_fs\")\n",
    "plt.plot(prediction_time_fs,label='prediction_time_fs')\n",
    "plt.xticks(range(len(classifiers_gscv)),classifiers_gscv,rotation=90)\n",
    "plt.legend()\n",
    "'''"
   ]
  }
 ],
 "metadata": {
  "kernelspec": {
   "display_name": "Python 3",
   "language": "python",
   "name": "python3"
  },
  "language_info": {
   "codemirror_mode": {
    "name": "ipython",
    "version": 3
   },
   "file_extension": ".py",
   "mimetype": "text/x-python",
   "name": "python",
   "nbconvert_exporter": "python",
   "pygments_lexer": "ipython3",
   "version": "3.6.2"
  }
 },
 "nbformat": 4,
 "nbformat_minor": 2
}
